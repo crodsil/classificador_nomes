{
 "cells": [
  {
   "cell_type": "markdown",
   "metadata": {},
   "source": [
    "# Projeto de Classificação de Gênero por Nome\n",
    "\n",
    "## Descrição do Projeto\n",
    "    O objetivo deste projeto é prever o gênero (masculino ou feminino) com base no nome fornecido. Para isso, utilizamos um modelo de árvore de decisão, uma técnica de aprendizado de máquina supervisionado, implementada com o auxílio da biblioteca scikit-learn em Python.\n",
    "\n",
    "## Dataset\n",
    "    O conjunto de dados utilizado consiste em uma lista de nomes acompanhados por seus respectivos gêneros. O dataset foi pré-processado para remover duplicatas e mapear os gêneros para valores numéricos (0 para feminino e 1 para masculino).\n",
    "\n",
    "## Técnica Utilizada\n",
    "    Optamos por utilizar a técnica de árvore de decisão devido à sua simplicidade e capacidade de lidar com problemas de classificação. A árvore de decisão é uma ferramenta intuitiva que pode ser facilmente visualizada e interpretada, o que é importante ao lidar com problemas onde a interpretabilidade do modelo é desejada.\n",
    "\n",
    "## Implementação\n",
    "    O código foi implementado em Python utilizando a biblioteca pandas para manipulação dos dados e scikit-learn para a criação e treinamento do modelo de árvore de decisão. O conjunto de dados é carregado, pré-processado e utilizado para treinar o modelo. Em seguida, o usuário fornece um nome e o modelo faz a previsão do gênero correspondente.\n",
    "\n",
    "Este projeto visa demonstrar como utilizar técnicas de aprendizado de máquina para tarefas de classificação simples, como a predição de gênero com base em características específicas, como nomes.\n",
    "\n"
   ]
  },
  {
   "cell_type": "code",
   "execution_count": 2,
   "metadata": {},
   "outputs": [],
   "source": [
    "import pandas as pd\n",
    "from sklearn.tree import DecisionTreeClassifier\n",
    "from sklearn.preprocessing import LabelEncoder\n",
    "\n",
    "\n",
    "def read_pandas(path):\n",
    "\n",
    "    df = pd.read_csv(path)\n",
    "\n",
    "    df.columns = ['Nomes', 'Sexo']\n",
    "    df.drop_duplicates(subset='Nomes', inplace=True)\n",
    "    df.reset_index(drop=True, inplace=True)\n",
    "\n",
    "    df['Sexo'] = df['Sexo'].map({\"F\": 0, \"M\": 1})\n",
    "\n",
    "    return df\n",
    "\n",
    "def train(nome):\n",
    "    df = read_pandas(path)\n",
    "    label_encoder = LabelEncoder()\n",
    "\n",
    "    df['Nomes_Encodados'] = label_encoder.fit_transform(df['Nomes'])\n",
    "\n",
    "    X = df[['Nomes_Encodados']]\n",
    "    Y = df['Sexo']\n",
    "\n",
    "    clf = DecisionTreeClassifier()\n",
    "    clf.fit(X, Y)\n",
    "\n",
    "    try: \n",
    "        nome_codificado = label_encoder.transform([nome])\n",
    "        entrada_previsao = [[nome_codificado[0]]]\n",
    "\n",
    "        previsao = clf.predict(entrada_previsao)\n",
    "\n",
    "        sexo = f'O nome {nome} é masculino' if previsao[0] == 1 else f'O nome {nome} é feminino'\n",
    "        return print(sexo)\n",
    "    except ValueError:\n",
    "        return print(f\"{nome} não é um nome de verdade!\")\n",
    "\n",
    "\n"
   ]
  },
  {
   "cell_type": "code",
   "execution_count": 3,
   "metadata": {},
   "outputs": [
    {
     "name": "stdout",
     "output_type": "stream",
     "text": [
      "O nome Maria é feminino\n"
     ]
    },
    {
     "name": "stderr",
     "output_type": "stream",
     "text": [
      "/home/cricka/.local/lib/python3.8/site-packages/sklearn/base.py:465: UserWarning: X does not have valid feature names, but DecisionTreeClassifier was fitted with feature names\n",
      "  warnings.warn(\n"
     ]
    }
   ],
   "source": [
    "path = \"/home/cricka/repositorio/formacao_ciencia_dados/ciencia_dados/classificador_nomes/dataset/names/name_gender_all.csv\"\n",
    "nome = input(\"Entre com um nome para saber: \").capitalize()\n",
    "\n",
    "df = read_pandas(path)\n",
    "if not df.empty:\n",
    "    train(nome)\n",
    "else:\n",
    "    print(\"Erro ao ler o arquivo CSV ou DataFrame vazio.\")"
   ]
  }
 ],
 "metadata": {
  "kernelspec": {
   "display_name": "Python 3",
   "language": "python",
   "name": "python3"
  },
  "language_info": {
   "codemirror_mode": {
    "name": "ipython",
    "version": 3
   },
   "file_extension": ".py",
   "mimetype": "text/x-python",
   "name": "python",
   "nbconvert_exporter": "python",
   "pygments_lexer": "ipython3",
   "version": "3.8.10"
  }
 },
 "nbformat": 4,
 "nbformat_minor": 2
}
